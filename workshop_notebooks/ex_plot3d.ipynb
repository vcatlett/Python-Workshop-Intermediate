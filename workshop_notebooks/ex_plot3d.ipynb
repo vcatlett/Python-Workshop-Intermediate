{
 "cells": [
  {
   "cell_type": "markdown",
   "metadata": {},
   "source": [
    "# Example: Plot 3D with Matplotlib\n",
    "Created by Victoria Catlett for the UTD REU Python 3 Workshop"
   ]
  },
  {
   "cell_type": "markdown",
   "metadata": {},
   "source": [
    "### Import what you need from packages at the top"
   ]
  },
  {
   "cell_type": "code",
   "execution_count": null,
   "metadata": {},
   "outputs": [],
   "source": [
    "import numpy as np\n",
    "import matplotlib.pyplot as plt\n",
    "from matplotlib import cm\n",
    "from scipy.stats import multivariate_normal\n",
    "from mpl_toolkits.mplot3d.axes3d import Axes3D\n",
    "%matplotlib inline"
   ]
  },
  {
   "cell_type": "markdown",
   "metadata": {},
   "source": [
    "### Create a Bivariate Gaussian function"
   ]
  },
  {
   "cell_type": "code",
   "execution_count": null,
   "metadata": {},
   "outputs": [],
   "source": [
    "def bivarGauss (x):\n",
    "    z = multivariate_normal.pdf(x, mean=[0,0], cov=[[1,0],[0,1]])\n",
    "    return z"
   ]
  },
  {
   "cell_type": "markdown",
   "metadata": {},
   "source": [
    "### Create an X-Y grid and evaluate bivarGauss on the grid"
   ]
  },
  {
   "cell_type": "code",
   "execution_count": null,
   "metadata": {},
   "outputs": [],
   "source": [
    "mx = np.linspace(-5, 5, 100)\n",
    "my = np.linspace(-5, 5, 100)\n",
    "mX, mY = np.meshgrid(mx, my)\n",
    "mz = bivarGauss(np.stack((mX, mY), axis =2))"
   ]
  },
  {
   "cell_type": "markdown",
   "metadata": {},
   "source": [
    "### Plot the Bivariate Gaussian and project it onto the X-Y plane"
   ]
  },
  {
   "cell_type": "code",
   "execution_count": null,
   "metadata": {},
   "outputs": [],
   "source": [
    "fig = plt.figure()\n",
    "ax = fig.gca(projection='3d')\n",
    "ax.plot_surface(mX, mY, mz, rstride=3, cstride=3, linewidth=1, antialiased=False, cmap=cm.coolwarm)\n",
    "ax.contourf(mX, mY, mz, zdir='z', offset=-0.1, cmap=cm.coolwarm)\n",
    "\n",
    "ax.set_xlabel('X')\n",
    "ax.set_xlim(-5, 5)\n",
    "ax.set_ylabel('Y')\n",
    "ax.set_ylim(-5, 5)\n",
    "ax.set_zlabel('Z')\n",
    "ax.set_zlim(-0.1, 0.2)\n",
    "plt.title(r'Bivariate Gaussian, $\\mu = (0,0)$')\n",
    "\n",
    "plt.show()"
   ]
  },
  {
   "cell_type": "markdown",
   "metadata": {},
   "source": [
    "### Plot ONLY the projection on the X-Y plane"
   ]
  },
  {
   "cell_type": "code",
   "execution_count": null,
   "metadata": {},
   "outputs": [],
   "source": [
    "plt.figure()\n",
    "plt.contourf(mx, my, mz)\n",
    "plt.xlabel('X')\n",
    "plt.ylabel('y')\n",
    "plt.title(r'Contours of a Bivariate Gaussian, $\\mu = (0,0)$')\n",
    "plt.colorbar()\n",
    "plt.show()"
   ]
  }
 ],
 "metadata": {
  "kernelspec": {
   "display_name": "Python 3",
   "language": "python",
   "name": "python3"
  },
  "language_info": {
   "codemirror_mode": {
    "name": "ipython",
    "version": 3
   },
   "file_extension": ".py",
   "mimetype": "text/x-python",
   "name": "python",
   "nbconvert_exporter": "python",
   "pygments_lexer": "ipython3",
   "version": "3.7.6"
  }
 },
 "nbformat": 4,
 "nbformat_minor": 4
}
