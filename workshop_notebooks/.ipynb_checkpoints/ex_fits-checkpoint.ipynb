{
 "cells": [
  {
   "cell_type": "markdown",
   "metadata": {},
   "source": [
    "# Example: Work with FITS files\n",
    "Created by Victoria Catlett for the Intermediate Python 3 Workshop"
   ]
  },
  {
   "cell_type": "markdown",
   "metadata": {},
   "source": [
    "### Import what you need from packages at the top"
   ]
  },
  {
   "cell_type": "code",
   "execution_count": null,
   "metadata": {},
   "outputs": [],
   "source": [
    "import matplotlib.pyplot as plt\n",
    "from astropy.io import fits\n",
    "from astropy.visualization import make_lupton_rgb\n",
    "%matplotlib inline"
   ]
  },
  {
   "cell_type": "markdown",
   "metadata": {},
   "source": [
    "### Open \"combined.fits\" (in the \"files\" folder) and see what's inside"
   ]
  },
  {
   "cell_type": "code",
   "execution_count": null,
   "metadata": {},
   "outputs": [],
   "source": [
    "allData = fits.open('../files/CassiopeiaA.fits')\n",
    "print(allData.info()) # Comment this out if it prints too much"
   ]
  },
  {
   "cell_type": "markdown",
   "metadata": {},
   "source": [
    "### Import each of the three images as red, green, and blue channels"
   ]
  },
  {
   "cell_type": "code",
   "execution_count": null,
   "metadata": {},
   "outputs": [],
   "source": [
    "# Access the individual images and headers from allData\n",
    "r1 = allData[0].data\n",
    "rHeader1 = allData[0].header\n",
    "\n",
    "g1 = allData[1].data\n",
    "gHeader1 = allData[1].header\n",
    "\n",
    "b1 = allData[2].data\n",
    "bHeader1 = allData[2].header\n",
    "\n",
    "# Another way: Open them directly from the file\n",
    "r2, rHeader2 = fits.getdata('../files/CassiopeiaA.fits', 0, header=True)\n",
    "g2, gHeader2 = fits.getdata('../files/CassiopeiaA.fits', 1, header=True)\n",
    "b2, bHeader2 = fits.getdata('../files/CassiopeiaA.fits', 2, header=True)"
   ]
  },
  {
   "cell_type": "markdown",
   "metadata": {},
   "source": [
    "### Get information about the first image"
   ]
  },
  {
   "cell_type": "code",
   "execution_count": null,
   "metadata": {},
   "outputs": [],
   "source": [
    "print(rHeader1) # Comment this out if it prints too much\n",
    "print(r1[0][0]) # Print the value of the upper left (0,0) pixel in the red data"
   ]
  },
  {
   "cell_type": "markdown",
   "metadata": {},
   "source": [
    "### Plot the red channel, then save the image"
   ]
  },
  {
   "cell_type": "code",
   "execution_count": null,
   "metadata": {},
   "outputs": [],
   "source": [
    "plt.figure()\n",
    "plt.imshow(r1, origin='lower', cmap='gray')\n",
    "plt.colorbar()\n",
    "plt.title('0.5-1.5 keV Data of Cassiopeia A from Chandra X-Ray Telescope')\n",
    "plt.savefig('../files/CassiopeiaA_red.png')"
   ]
  },
  {
   "cell_type": "markdown",
   "metadata": {},
   "source": [
    "### Plot the 3 channels to create an RGB image, then save image"
   ]
  },
  {
   "cell_type": "code",
   "execution_count": null,
   "metadata": {},
   "outputs": [],
   "source": [
    "plt.figure()\n",
    "image = make_lupton_rgb(r1, g1, b1, stretch=50)\n",
    "plt.imshow(image, origin = 'lower')\n",
    "plt.title('3-filter Image of Cassiopeia A from Chandra X-Ray Data')\n",
    "plt.savefig('../files/CassiopeiaA.png')"
   ]
  }
 ],
 "metadata": {
  "kernelspec": {
   "display_name": "Python 3",
   "language": "python",
   "name": "python3"
  },
  "language_info": {
   "codemirror_mode": {
    "name": "ipython",
    "version": 3
   },
   "file_extension": ".py",
   "mimetype": "text/x-python",
   "name": "python",
   "nbconvert_exporter": "python",
   "pygments_lexer": "ipython3",
   "version": "3.7.6"
  }
 },
 "nbformat": 4,
 "nbformat_minor": 4
}
