{
 "cells": [
  {
   "cell_type": "markdown",
   "metadata": {},
   "source": [
    "# Example: Pandas\n",
    "Created by Victoria Catlett for the UTD REU Python 3 Workshop"
   ]
  },
  {
   "cell_type": "markdown",
   "metadata": {},
   "source": [
    "### Import what you need from packages at the top"
   ]
  },
  {
   "cell_type": "code",
   "execution_count": null,
   "metadata": {},
   "outputs": [],
   "source": [
    "import numpy as np\n",
    "import pandas as pd\n",
    "import matplotlib.pyplot as plt\n",
    "from scipy.optimize import curve_fit\n",
    "%matplotlib inline"
   ]
  },
  {
   "cell_type": "markdown",
   "metadata": {},
   "source": [
    "### Define a function we'll need later"
   ]
  },
  {
   "cell_type": "code",
   "execution_count": null,
   "metadata": {},
   "outputs": [],
   "source": [
    "def mySin(x,a,b):\n",
    "    y = a*np.sin(b*x)\n",
    "    return y"
   ]
  },
  {
   "cell_type": "markdown",
   "metadata": {},
   "source": [
    "### Read in the Excel file OR the CSV file"
   ]
  },
  {
   "cell_type": "code",
   "execution_count": null,
   "metadata": {},
   "outputs": [],
   "source": [
    "data = pd.read_excel('../files/pandas.xlsx')  # Try reading in pandas.csv instead\n",
    "x = data.x \n",
    "y = data['y']  # Notice that there are two ways of accessing the columns of 'data'"
   ]
  },
  {
   "cell_type": "markdown",
   "metadata": {},
   "source": [
    "### Plot the data to see what it looks like\n",
    "### Then find a, b, and c of the best-fit mySin function"
   ]
  },
  {
   "cell_type": "code",
   "execution_count": null,
   "metadata": {},
   "outputs": [],
   "source": [
    "fig, ax = plt.subplots(nrows=2, ncols=1)\n",
    "plt.subplots_adjust(hspace=0.5)\n",
    "ax[0].plot(x, y, 'k.')\n",
    "ax[0].set_title('Original Data')\n",
    "\n",
    "parameters, cov = curve_fit(mySin, x, y, p0=[1, 6])\n",
    "a_fit = parameters[0]\n",
    "b_fit = parameters[1]\n",
    "y_fit = mySin(x, a_fit, b_fit)\n",
    "ax[1].plot(x, y_fit, 'k')\n",
    "ax[1].set_title('Fit Sine Curve')\n",
    "\n",
    "print('The fit found y = %0.2f*sin(%0.2f*x)'%(a_fit,b_fit))\n",
    "print('The real answer is y = 0.75*sin(2*pi*x)')"
   ]
  },
  {
   "cell_type": "markdown",
   "metadata": {},
   "source": [
    "### Save new data to a file"
   ]
  },
  {
   "cell_type": "code",
   "execution_count": null,
   "metadata": {},
   "outputs": [],
   "source": [
    "# One way: Add columns to the original dataframe, save as Excel sheet\n",
    "data['y_fit'] = y_fit\n",
    "data.to_excel('../files/pandas_fit.xlsx', index=False)\n",
    "\n",
    "# Another way: Make a new dataframe, save as CSV\n",
    "saveData = pd.DataFrame({'x':x, 'y':y, 'y_fit':y_fit})\n",
    "saveData.to_csv('../files/pandas_fit.csv', index=False)"
   ]
  }
 ],
 "metadata": {
  "kernelspec": {
   "display_name": "Python 3",
   "language": "python",
   "name": "python3"
  },
  "language_info": {
   "codemirror_mode": {
    "name": "ipython",
    "version": 3
   },
   "file_extension": ".py",
   "mimetype": "text/x-python",
   "name": "python",
   "nbconvert_exporter": "python",
   "pygments_lexer": "ipython3",
   "version": "3.7.6"
  }
 },
 "nbformat": 4,
 "nbformat_minor": 4
}
